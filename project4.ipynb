{
 "cells": [
  {
   "cell_type": "code",
   "execution_count": null,
   "metadata": {},
   "outputs": [],
   "source": []
  },
  {
   "cell_type": "code",
   "execution_count": 4,
   "metadata": {},
   "outputs": [
    {
     "data": {
      "text/plain": [
       "array([6, 7, 8, 9])"
      ]
     },
     "execution_count": 4,
     "metadata": {},
     "output_type": "execute_result"
    }
   ],
   "source": [
    "import numpy as np\n",
    "a=np.array([6,7,8,9])\n",
    "a"
   ]
  },
  {
   "cell_type": "code",
   "execution_count": 5,
   "metadata": {},
   "outputs": [
    {
     "name": "stdout",
     "output_type": "stream",
     "text": [
      "3\n",
      "(4, 4, 14)\n",
      "[[  8  27  13   7  22   8  23   7  25  11  30   9  29  20]\n",
      " [ 14  26  13  21   6  20 -13  32  14  23   8  20  15  27]\n",
      " [ 14  20   6  21   6  25   9  23  10  28   8  29   7  23]\n",
      " [ 10  29  12  25  12  27   9  26  11  24  13  30  15  30]]\n",
      "[[ 7 32  6 31 12 28  6 20 14 32  7 28 15 24]\n",
      " [10 25  6 23 11 27 14 31  8 20 15 31  7 26]\n",
      " [ 9 23  7 25 11 23  7 22  6 31  7 32 13 30]\n",
      " [ 7 32 12 28 14 26  6 32 14 22  8 27 10 28]]\n",
      "[[ 2 18  5 18  7 19  6 22  6 18  5  3 22  6]\n",
      " [ 4 18  6 18  6 18  8 21  5 18  5  4 20  4]\n",
      " [ 6 22  8 21  4 22  8 20  2 21  4  8 18  5]\n",
      " [ 7 22  2 21  6 22  6 21  5 19  3  3 19  3]]\n",
      "[[ 10  20   7  22 -10  19   8  21   9  18   7  71  20  10]\n",
      " [ 10  18  10  22  11  19   9  20   9  18  11   9  20  10]\n",
      " [  8  18   8  18  10  19  10  20  11  18   8  12  18   9]\n",
      " [  9  20   7  21   8  18   8  19   9  20  12  12  18   7]]\n"
     ]
    }
   ],
   "source": [
    "import numpy as np\n",
    "data=np.array([[[8,\n",
    "27,13,7,22,\n",
    "8,23,7,25,11,\n",
    "30,9,29,20],\n",
    "\n",
    "[14,26,13,21,6,\n",
    "20,-13,32,14,23,\n",
    "8,20,15,27],\n",
    "\n",
    "[14,20,6,21,6,\n",
    "25,9,23,10,28,8,29,7,\n",
    "23],\n",
    "\n",
    "[10,29,12,25,12,\n",
    "27,9,26,11,24,13,30,\n",
    "15,30]],\n",
    "\n",
    "[[7,32,6,31,12,\n",
    "28,6,20,14,32,7,28,15,\n",
    "24],\n",
    "\n",
    "[10,25,6,23,11,\n",
    "27,14,31,8,20,15,31,7,\n",
    "26],\n",
    "\n",
    "[9,23,7,25,11,\n",
    "23,7,22,6,31,7,32,13,\n",
    "30],\n",
    "\n",
    "[7,32,12,28,14,\n",
    "26,6,32,14,22,8,27,10,\n",
    "28]],\n",
    "\n",
    "[[2,18,5,18,7,19,\n",
    "6,22,6,18,5,3,22,6],\n",
    "\n",
    "[4,18,6,18,6,18,\n",
    "8,21,5,18,5,4,20,4],\n",
    "\n",
    "[6,22,8,21,4,22,\n",
    "8,20,2,21,4,8,18,5],\n",
    "\n",
    "[7,22,2,21,6,22,\n",
    "6,21,5,19,3,3,19,3]],\n",
    "\n",
    "[[10,20,7,22,-10,\n",
    "19,8,21,9,18,7,71,20,\n",
    "10],\n",
    "\n",
    "[10,18,10,22,11,\n",
    "19,9,20,9,18,11,9,20,\n",
    "10],\n",
    "\n",
    "[8,18,8,18,10,\n",
    "19,10,20,11,18,8,12,\n",
    "18,9],\n",
    "\n",
    "[9,20,7,21,8,18,\n",
    "8,19,9,20,12,12,18,7]]])\n",
    "\n",
    "print(data.ndim)\n",
    "print(data.shape)\n",
    "\n",
    "november = data[0]\n",
    "december = data[1]\n",
    "january = data[2]\n",
    "february = data[3]\n",
    " \n",
    "print(november)\n",
    "print(december)\n",
    "print(january)\n",
    "print(february)\n",
    "\n"
   ]
  },
  {
   "cell_type": "code",
   "execution_count": 6,
   "metadata": {},
   "outputs": [
    {
     "name": "stdout",
     "output_type": "stream",
     "text": [
      "[[[  8  27  13   7  22   8  23   7  25  11  30   9  29  20]\n",
      "  [ 14  26  13  21   6  20 -13  32  14  23   8  20  15  27]\n",
      "  [ 14  20   6  21   6  25   9  23  10  28   8  29   7  23]\n",
      "  [ 10  29  12  25  12  27   9  26  11  24  13  30  15  30]]\n",
      "\n",
      " [[  7  32   6  31  12  28   6  20  14  32   7  28  15  24]\n",
      "  [ 10  25   6  23  11  27  14  31   8  20  15  31   7  26]\n",
      "  [  9  23   7  25  11  23   7  22   6  31   7  32  13  30]\n",
      "  [  7  32  12  28  14  26   6  32  14  22   8  27  10  28]]\n",
      "\n",
      " [[  2  18   5  18   7  19   6  22   6  18   5   3  22   6]\n",
      "  [  4  18   6  18   6  18   8  21   5  18   5   4  20   4]\n",
      "  [  6  22   8  21   4  22   8  20   2  21   4   8  18   5]\n",
      "  [  7  22   2  21   6  22   6  21   5  19   3   3  19   3]]\n",
      "\n",
      " [[ 10  20   7  22 -10  19   8  21   9  18   7  71  20  10]\n",
      "  [ 10  18  10  22  11  19   9  20   9  18  11   9  20  10]\n",
      "  [  8  18   8  18  10  19  10  20  11  18   8  12  18   9]\n",
      "  [  9  20   7  21   8  18   8  19   9  20  12  12  18   7]]]\n"
     ]
    }
   ],
   "source": [
    "print(data)"
   ]
  },
  {
   "cell_type": "markdown",
   "metadata": {},
   "source": []
  },
  {
   "attachments": {},
   "cell_type": "markdown",
   "metadata": {},
   "source": [
    "4. Print the temperatures for Tuesday of each month."
   ]
  },
  {
   "cell_type": "code",
   "execution_count": 7,
   "metadata": {},
   "outputs": [
    {
     "name": "stdout",
     "output_type": "stream",
     "text": [
      "[[[13  7]\n",
      "  [13 21]\n",
      "  [ 6 21]\n",
      "  [12 25]]\n",
      "\n",
      " [[ 6 31]\n",
      "  [ 6 23]\n",
      "  [ 7 25]\n",
      "  [12 28]]\n",
      "\n",
      " [[ 5 18]\n",
      "  [ 6 18]\n",
      "  [ 8 21]\n",
      "  [ 2 21]]\n",
      "\n",
      " [[ 7 22]\n",
      "  [10 22]\n",
      "  [ 8 18]\n",
      "  [ 7 21]]]\n"
     ]
    }
   ],
   "source": [
    "tuesday= data[:,:,2:4]\n",
    "print(tuesday)"
   ]
  },
  {
   "cell_type": "code",
   "execution_count": 8,
   "metadata": {},
   "outputs": [
    {
     "name": "stdout",
     "output_type": "stream",
     "text": [
      "[[[  7   6  12   6  14]\n",
      "  [ 10   6  11  14   8]\n",
      "  [  9   7  11   7   6]\n",
      "  [  7  12  14   6  14]]\n",
      "\n",
      " [[ 10   7 -10   8   9]\n",
      "  [ 10  10  11   9   9]\n",
      "  [  8   8  10  10  11]\n",
      "  [  9   7   8   8   9]]]\n"
     ]
    }
   ],
   "source": [
    "weekdays=data[1:4:2,:,0:9:2]\n",
    "print(weekdays)"
   ]
  },
  {
   "cell_type": "code",
   "execution_count": 9,
   "metadata": {},
   "outputs": [
    {
     "name": "stdout",
     "output_type": "stream",
     "text": [
      "1 :\n",
      "2 :\n",
      "3 :\n",
      "4 :\n"
     ]
    }
   ],
   "source": [
    "nov_min = data[:4,::2]\n",
    "for i, row in enumerate(nov_min):\n",
    "    np.where(row<8)[0]\n",
    "    print(i+1,\":\")\n"
   ]
  },
  {
   "cell_type": "code",
   "execution_count": null,
   "metadata": {},
   "outputs": [],
   "source": []
  },
  {
   "cell_type": "code",
   "execution_count": 10,
   "metadata": {},
   "outputs": [
    {
     "name": "stdout",
     "output_type": "stream",
     "text": [
      "[[[32 31 28 20 32 28 24]\n",
      "  [25 23 27 31 20 31 26]\n",
      "  [23 25 23 22 31 32 30]\n",
      "  [32 28 26 32 22 27 28]]\n",
      "\n",
      " [[18 18 19 22 18  3  6]\n",
      "  [18 18 18 21 18  4  4]\n",
      "  [22 21 22 20 21  8  5]\n",
      "  [22 21 22 21 19  3  3]]]\n"
     ]
    }
   ],
   "source": [
    "temperatures = np.array(data)\n",
    "threshold = 20\n",
    "weeks_with_high_temperatures =  temperatures[1:3,:,1::2]\n",
    "[temperatures[1:3,:,1:2] > threshold]\n",
    "print(weeks_with_high_temperatures)\n"
   ]
  },
  {
   "cell_type": "code",
   "execution_count": 11,
   "metadata": {},
   "outputs": [
    {
     "ename": "SyntaxError",
     "evalue": "invalid syntax (1619133394.py, line 1)",
     "output_type": "error",
     "traceback": [
      "\u001b[1;36m  Cell \u001b[1;32mIn[11], line 1\u001b[1;36m\u001b[0m\n\u001b[1;33m    .there are several strategies that could be used to handle data points like the one you described ,depending on the specific goals and consraints of the analysis you are conducting.\u001b[0m\n\u001b[1;37m    ^\u001b[0m\n\u001b[1;31mSyntaxError\u001b[0m\u001b[1;31m:\u001b[0m invalid syntax\n"
     ]
    }
   ],
   "source": [
    ".there are several strategies that could be used to handle data points like the one you described ,depending on the specific goals and consraints of the analysis you are conducting.\n",
    ".ignore the data ponit.\n",
    ".impute the data point.\n",
    ".investigate the data point.\n",
    ".exclude the data point from certain analysis."
   ]
  },
  {
   "cell_type": "code",
   "execution_count": null,
   "metadata": {},
   "outputs": [
    {
     "name": "stdout",
     "output_type": "stream",
     "text": [
      "20.892857142857142\n"
     ]
    }
   ],
   "source": [
    "temperatures = np.array(data)\n",
    "\n",
    "winter_months = temperatures[:,:,1::2]  #select the winter months(nov,dec,jan,feb)\n",
    "\n",
    "average_max_temp = np.mean(winter_months) #compute the average temperature of winter months\n",
    "\n",
    "print(average_max_temp)\n",
    "\n",
    "\n"
   ]
  },
  {
   "cell_type": "code",
   "execution_count": null,
   "metadata": {},
   "outputs": [
    {
     "name": "stdout",
     "output_type": "stream",
     "text": [
      "[ 9.57142857 10.14285714  8.57142857 10.14285714]\n"
     ]
    }
   ],
   "source": [
    "temperatures = np.array(data)\n",
    "#select the min temp for the month of dec\n",
    "dec_min_temps = temperatures[1,:,::2]\n",
    "#compute the weekly average min temp for dec\n",
    "dec_weekly_avg_min_temps = np.mean(dec_min_temps,axis=1)\n",
    "print(dec_weekly_avg_min_temps) "
   ]
  },
  {
   "cell_type": "code",
   "execution_count": null,
   "metadata": {},
   "outputs": [
    {
     "name": "stdout",
     "output_type": "stream",
     "text": [
      "14.892857142857142\n"
     ]
    }
   ],
   "source": [
    "temperatures = np.array(data)\n",
    "#select the temperature data for jan abd dec\n",
    "dec_jan_temps = temperatures[1:3,:,:]\n",
    "#flatten the temp data in single\n",
    "# le dimension\n",
    "flattened_temp = dec_jan_temps.flatten()\n",
    "#compute the overall temp for dec and jan\n",
    "overall_avg_temps = np.mean(flattened_temp)\n",
    "print(overall_avg_temps)\n",
    "\n",
    "\n"
   ]
  },
  {
   "cell_type": "code",
   "execution_count": null,
   "metadata": {},
   "outputs": [
    {
     "name": "stdout",
     "output_type": "stream",
     "text": [
      "the least temperature experienced in january was 2 degree on 1 of week 1\n"
     ]
    }
   ],
   "source": [
    "temperatures = np.array(data)\n",
    "min_temp = np.min(temperatures[1:3,:,:])\n",
    "#find the indicies of the min temp in the data\n",
    "min_temp_indices = np.where(temperatures == min_temp)\n",
    "#the indices will be a tuple of arrays,one for each dimension of the data\n",
    "#the first element of the tuple correspond the month the second of the week the third of the day\n",
    "month_index = min_temp_indices[0][0]\n",
    "week_index = min_temp_indices[1][0]\n",
    "day_index = min_temp_indices[2][0]\n",
    "#calculate the month and week based on the indices\n",
    "month = \"december\" if month_index == 0 else \"january\"\n",
    "week = week_index + 1\n",
    "#calculate the day of the week based on the day index\n",
    "#we cab do this by using an offset from first day of the week\n",
    "#the first week day of the week is monday,so the day of the week is tbhe day index+1\n",
    "day_of_week = day_index + 1\n",
    "print(f\"the least temperature experienced in {month} was {min_temp} degree on {day_of_week} of week {week}\")"
   ]
  },
  {
   "cell_type": "code",
   "execution_count": null,
   "metadata": {},
   "outputs": [
    {
     "name": "stdout",
     "output_type": "stream",
     "text": [
      "the maximum temperature experienced in february was71 degrees on1 of week1\n"
     ]
    }
   ],
   "source": [
    "temperatures = np.array(data)\n",
    "max_temp = np.max(temperatures[3,:,:])\n",
    "#the indicies of the maximmum temp in the data\n",
    "max_temp_indices = np.where(temperatures == max_temp)\n",
    "month_index = max_temp_indices[0][0]\n",
    "week_index = max_temp_indices[1][0]\n",
    "day_index = max_temp_indices[2][0]\n",
    "# calculate the month and week based on indices\n",
    "#we can do this by adding the month index to the month(nov)\n",
    "# and adding the weekn index to the base week(1)\n",
    "month = month_index + 11\n",
    "week = week_index +1\n",
    "#the first day of the week is monday,so  the day pof the week is the day index+1\n",
    "day_of_week = day_index =1\n",
    "print(f\"the maximum temperature experienced in february was{max_temp} degrees on{day_of_week} of week{week}\")"
   ]
  },
  {
   "cell_type": "code",
   "execution_count": null,
   "metadata": {},
   "outputs": [
    {
     "name": "stdout",
     "output_type": "stream",
     "text": [
      "the days in november where the maximum temperature was below the average temperature were:[]\n"
     ]
    }
   ],
   "source": [
    "temperatures = np.array(data)\n",
    "nov_temps = temperatures[0,:,:]\n",
    "nov_avg_temp  = np.mean(nov_temps)\n",
    "# the maximum temp for each day in nov\n",
    "nov_max_temps = np.max(nov_temps,axis=1)\n",
    "#find the days where the maximum temperature was below the average temp\n",
    "below_avg_days = np.where(nov_max_temps < nov_avg_temp)[0]\n",
    "print(f\"the days in november where the maximum temperature was below the average temperature were:{below_avg_days + 1}\")\n"
   ]
  },
  {
   "cell_type": "code",
   "execution_count": null,
   "metadata": {},
   "outputs": [],
   "source": [
    "#create an empty list to hold the data for the new array\n",
    "new_data = []\n",
    "for month_index , month_data in enumerate(temperatures):\n",
    "    #loop over the week pf month\n",
    "    for week_index , week_data in enumerate(month_data):\n",
    "        #check if we have already processed this week\n",
    "        if week_index < month_index:\n",
    "            continue\n",
    "        elif week_index == 0:\n",
    "            new_data.append(week_data)\n",
    "            #if this is not the first week of month ,add it to the previous row of the new data list\n",
    "        else:\n",
    "            new_data[-1] = np.concatenate([new_data[-1],week_data])\n",
    "            new_array = np.array(new_data)\n",
    "            \n",
    "    "
   ]
  },
  {
   "cell_type": "code",
   "execution_count": null,
   "metadata": {},
   "outputs": [
    {
     "name": "stdout",
     "output_type": "stream",
     "text": [
      "[[ 7 32 12 28 14 26  6 32 14 22  8 27 10 28]\n",
      " [ 7 32  6 31 12 28  6 20 14 32  7 28 15 24]\n",
      " [10 25  6 23 11 27 14 31  8 20 15 31  7 26]\n",
      " [ 9 23  7 25 11 23  7 22  6 31  7 32 13 30]]\n"
     ]
    }
   ],
   "source": [
    "dec_temps = temperatures[1,:,:]\n",
    "dec_weekly_avgs = np.mean(dec_temps, axis=1)\n",
    "#sort the weekly avgs temp in desc order\n",
    "sort_indices = np.argsort(- dec_weekly_avgs)\n",
    "#use the sorted indices to sort the data for dec\n",
    "sorted_dec_data = dec_temps[sort_indices,:]\n",
    "print(sorted_dec_data)\n"
   ]
  },
  {
   "cell_type": "code",
   "execution_count": null,
   "metadata": {},
   "outputs": [
    {
     "name": "stdout",
     "output_type": "stream",
     "text": [
      "[[[ 8 27 13]\n",
      "  [14 26 13]\n",
      "  [14 20  6]\n",
      "  [10 29 12]]\n",
      "\n",
      " [[ 7 32  6]\n",
      "  [10 25  6]\n",
      "  [ 9 23  7]\n",
      "  [ 7 32 12]]\n",
      "\n",
      " [[10 20  7]\n",
      "  [10 18 10]\n",
      "  [ 8 18  8]\n",
      "  [ 9 20  7]]\n",
      "\n",
      " [[ 2 18  5]\n",
      "  [ 4 18  6]\n",
      "  [ 6 22  8]\n",
      "  [ 7 22  2]]]\n"
     ]
    }
   ],
   "source": [
    "temperatures = np.array(data)\n",
    "avg_temps = np.mean(temperatures[:,:,:3],axis=(1,2))\n",
    "#sort the average temp in desc order\n",
    "sorted_indices = np.argsort(-avg_temps)\n",
    "sorted_data = temperatures[sorted_indices,:,:3]\n",
    "print(sorted_data)"
   ]
  },
  {
   "cell_type": "code",
   "execution_count": null,
   "metadata": {},
   "outputs": [
    {
     "name": "stdout",
     "output_type": "stream",
     "text": [
      "(array([0, 3], dtype=int64), array([1, 0], dtype=int64), array([ 6, 11], dtype=int64))\n"
     ]
    }
   ],
   "source": [
    "#calculate the mean and standard dev of the temp data\n",
    "mean_temp = np.mean(temperatures)\n",
    "std_temp = np.std(temperatures)\n",
    "#the indices of the outlier values \n",
    "outlier_indexes = np.where(np.abs(temperatures - mean_temp) > 3 * std_temp)\n",
    "print(outlier_indexes)"
   ]
  },
  {
   "cell_type": "code",
   "execution_count": 12,
   "metadata": {},
   "outputs": [
    {
     "name": "stdout",
     "output_type": "stream",
     "text": [
      "[[[  8  27  13   7  22   8  23   7  25  11  30   9  29  20]\n",
      "  [ 14  26  13  21   6  20 -13  32  14  23   8  20  15  27]\n",
      "  [ 14  20   6  21   6  25   9  23  10  28   8  29   7  23]\n",
      "  [ 10  29  12  25  12  27   9  26  11  24  13  30  15  30]]\n",
      "\n",
      " [[  7  32   6  31  12  28   6  20  14  32   7  28  15  24]\n",
      "  [ 10  25   6  23  11  27  14  31   8  20  15  31   7  26]\n",
      "  [  9  23   7  25  11  23   7  22   6  31   7  32  13  30]\n",
      "  [  7  32  12  28  14  26   6  32  14  22   8  27  10  28]]\n",
      "\n",
      " [[  2  18   5  18   7  19   6  22   6  18   5   3  22   6]\n",
      "  [  4  18   6  18   6  18   8  21   5  18   5   4  20   4]\n",
      "  [  6  22   8  21   4  22   8  20   2  21   4   8  18   5]\n",
      "  [  7  22   2  21   6  22   6  21   5  19   3   3  19   3]]\n",
      "\n",
      " [[ 10  20   7  22 -10  19   8  21   9  18   7  71  20  10]\n",
      "  [ 10  18  10  22  11  19   9  20   9  18  11   9  20  10]\n",
      "  [  8  18   8  18  10  19  10  20  11  18   8  12  18   9]\n",
      "  [  9  20   7  21   8  18   8  19   9  20  12  12  18   7]]]\n"
     ]
    }
   ],
   "source": [
    "temperatures = np.array(data)\n",
    "print(temperatures)"
   ]
  }
 ],
 "metadata": {
  "kernelspec": {
   "display_name": "Python 3",
   "language": "python",
   "name": "python3"
  },
  "language_info": {
   "codemirror_mode": {
    "name": "ipython",
    "version": 3
   },
   "file_extension": ".py",
   "mimetype": "text/x-python",
   "name": "python",
   "nbconvert_exporter": "python",
   "pygments_lexer": "ipython3",
   "version": "3.10.9"
  },
  "orig_nbformat": 4,
  "vscode": {
   "interpreter": {
    "hash": "ba37d69516b96b2df66115ef342e83722e1a1518f5d2e0ee41eb08141fa2fe2a"
   }
  }
 },
 "nbformat": 4,
 "nbformat_minor": 2
}
